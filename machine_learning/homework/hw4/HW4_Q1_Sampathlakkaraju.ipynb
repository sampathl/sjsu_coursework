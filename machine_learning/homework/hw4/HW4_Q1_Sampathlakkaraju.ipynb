{
 "cells": [
  {
   "cell_type": "code",
   "execution_count": 11,
   "metadata": {},
   "outputs": [
    {
     "name": "stdout",
     "output_type": "stream",
     "text": [
      "Decision regions for 1-NN rule for X-space\n"
     ]
    },
    {
     "data": {
      "text/plain": [
       "<matplotlib.collections.PathCollection at 0x295b10cd940>"
      ]
     },
     "execution_count": 11,
     "metadata": {},
     "output_type": "execute_result"
    },
    {
     "data": {
      "image/png": "[encoded data removed]",
      "text/plain": [
       "<Figure size 432x288 with 1 Axes>"
      ]
     },
     "metadata": {
      "needs_background": "light"
     },
     "output_type": "display_data"
    }
   ],
   "source": [
    "print(\"Decision regions for 1-NN rule for X-space\")\n",
    "import matplotlib.pyplot as plt\n",
    "from matplotlib.colors import ListedColormap\n",
    "from sklearn.neighbors import KNeighborsClassifier\n",
    "import numpy as np\n",
    "import math\n",
    "point =[[1,0,-1],  [0,1,-1],  [0,-1,-1],  [-1,0,-1],   [0,2,1],   [0,-2,1],   [-2,0,1]]\n",
    "g=np.array([[0,-2],[0,-1.5],[0,1.5],[0,2],[-2,0],[-1,0],[1,0]])\n",
    "data_points=np.array(point)\n",
    "X=data_points[:,0:2]\n",
    "Y=data_points[:,-1]\n",
    "NN1 = KNeighborsClassifier(n_neighbors=1)\n",
    "NN1.fit(X,Y)\n",
    "NN3 = KNeighborsClassifier(n_neighbors=3)\n",
    "NN3.fit(X,Y)\n",
    "x_min = X[:, 0].min() - 1 \n",
    "y_min = X[:, 1].min() - 1\n",
    "x_max = X[:, 0].max() + 3\n",
    "y_max = X[:, 1].max() + 1\n",
    "x_array,y_array = np.meshgrid(np.arange(x_min, x_max, 0.02),np.arange(y_min, y_max, 0.02))\n",
    "X_space1 = NN1.predict(np.c_[x_array.ravel(), y_array.ravel()])\n",
    "X_space1 = X_space1.reshape(x_array.shape)\n",
    "colors = ListedColormap(['r', 'k', 'b'])\n",
    "plt.figure()\n",
    "plt.title('1-NN rule in X-space')\n",
    "plt.pcolormesh(x_array, y_array, X_space1, cmap=colors)\n",
    "plt.scatter(X[:, 0], X[:, 1], s=20)"
   ]
  },
  {
   "cell_type": "code",
   "execution_count": 12,
   "metadata": {},
   "outputs": [
    {
     "name": "stdout",
     "output_type": "stream",
     "text": [
      "Decision region for 3-NN rule in X-space\n"
     ]
    },
    {
     "data": {
      "text/plain": [
       "<matplotlib.collections.PathCollection at 0x295b1612668>"
      ]
     },
     "execution_count": 12,
     "metadata": {},
     "output_type": "execute_result"
    },
    {
     "data": {
      "image/png": "[encoded data removed]",
      "text/plain": [
       "<Figure size 432x288 with 1 Axes>"
      ]
     },
     "metadata": {
      "needs_background": "light"
     },
     "output_type": "display_data"
    }
   ],
   "source": [
    "print(\"Decision region for 3-NN rule in X-space\")\n",
    "X_space3 = NN3.predict(np.c_[x_array.ravel(), y_array.ravel()])\n",
    "X_space3 = X_space3.reshape(x_array.shape)\n",
    "plt.figure()\n",
    "plt.title('3-NN rule in X-space')\n",
    "plt.pcolormesh(x_array, y_array, X_space3, cmap=colors)\n",
    "plt.scatter(X[:, 0], X[:, 1], s=20)"
   ]
  },
  {
   "cell_type": "code",
   "execution_count": 35,
   "metadata": {},
   "outputs": [
    {
     "name": "stdout",
     "output_type": "stream",
     "text": [
      "1-NN rule in Z-space\n"
     ]
    },
    {
     "data": {
      "image/png": "[encoded data removed]",
      "text/plain": [
       "<Figure size 432x288 with 1 Axes>"
      ]
     },
     "metadata": {
      "needs_background": "light"
     },
     "output_type": "display_data"
    }
   ],
   "source": [
    "x1=X[:,0]\n",
    "x2=X[:,1]\n",
    "z1=[]\n",
    "z2=[]\n",
    "z=np.array([[0,0.00],[0,0.00],[0,0.00],[0,0.00],[0,0.00],[0,0.00],[0,0.00]])\n",
    "for i in range(7):\n",
    "    square=(x1[i]**2)+(x2[i]**2)\n",
    "    z1.append(math.sqrt(square))\n",
    "    if(x1[i]!=0):\n",
    "        arctan=np.arctan(x2[i]/x1[i])\n",
    "    else:\n",
    "        arctan=math.pi/2\n",
    "    z2.append(arctan)\n",
    "for i in range(7):\n",
    "    z[i][0]=z1[i]\n",
    "    z[i][1]=z2[i]\n",
    "NN1.fit(z,Y)\n",
    "x_array1,y_array1= np.meshgrid(np.arange(-3, 3, 0.02),np.arange(-3, 3, 0.02))\n",
    "Z_space1= NN1.predict(np.c_[x_array1.ravel(),y_array1.ravel()])\n",
    "Z_space1=Z_space1.reshape(x_array1.shape)\n",
    "grid=[]\n",
    "for i in range(4,7):\n",
    "    grid.append(z[i])\n",
    "grid=np.asarray(grid)\n",
    "print(\"1-NN rule in Z-space\")\n",
    "plt.figure()\n",
    "plt.pcolormesh(x_array1, y_array1, Z_space1, cmap=colors)\n",
    "plt.title('1-NN rule for Z-space')\n",
    "for i in range(4):\n",
    "    plt.scatter(z[i][0],z[i][1],c='g')\n",
    "for i in range( 3): \n",
    "    plt.scatter(grid[i][0],grid[i][1],c='m')"
   ]
  },
  {
   "cell_type": "code",
   "execution_count": 37,
   "metadata": {},
   "outputs": [
    {
     "name": "stdout",
     "output_type": "stream",
     "text": [
      "3-NN rule in Z-space\n"
     ]
    },
    {
     "data": {
      "image/png": "[encoded data removed]",
      "text/plain": [
       "<Figure size 432x288 with 1 Axes>"
      ]
     },
     "metadata": {
      "needs_background": "light"
     },
     "output_type": "display_data"
    }
   ],
   "source": [
    "NN3.fit(z,Y)\n",
    "x_array2,y_array2= np.meshgrid(np.arange(-3, 3, 0.02),np.arange(-3, 3, 0.02))\n",
    "Z_space3= NN3.predict(np.c_[x_array2.ravel(),y_array2.ravel()])\n",
    "Z_space3=Z_space3.reshape(x_array2.shape)\n",
    "print(\"3-NN rule in Z-space\")\n",
    "plt.figure()\n",
    "plt.pcolormesh(x_array2, y_array2, Z_space3, cmap=colors)\n",
    "plt.title('3-NN rule for Z-space')\n",
    "for i in range(0,4):\n",
    "    plt.scatter(z[i][0],z[i][1],c='g')\n",
    "for i in range(0,3): \n",
    "    plt.scatter(grid[i][0],grid[i][1],c='m')"
   ]
  },
  {
   "cell_type": "code",
   "execution_count": null,
   "metadata": {},
   "outputs": [],
   "source": []
  }
 ],
 "metadata": {
  "kernelspec": {
   "display_name": "Python 3",
   "language": "python",
   "name": "python3"
  },
  "language_info": {
   "codemirror_mode": {
    "name": "ipython",
    "version": 3
   },
   "file_extension": ".py",
   "mimetype": "text/x-python",
   "name": "python",
   "nbconvert_exporter": "python",
   "pygments_lexer": "ipython3",
   "version": "3.6.6"
  }
 },
 "nbformat": 4,
 "nbformat_minor": 2
}
